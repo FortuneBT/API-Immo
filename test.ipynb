{
 "cells": [
  {
   "cell_type": "code",
   "execution_count": 1,
   "metadata": {},
   "outputs": [],
   "source": [
    "import pandas as pd\n",
    "import numpy as np\n",
    "from typing import Optional,List,Dict\n",
    "from model.mymodel import linear_regression_model\n",
    "#from model.mymodel import linear_regression_model_client\n",
    "from predict.prediction import predict_linear_regression\n",
    "#from predict.prediction import predict_linear_regression_client\n",
    "from preprocessing.cleaning_data import raw_data\n",
    "from preprocessing.cleaning_data import start_dataframe\n",
    "from preprocessing.cleaning_data import preprocess\n",
    "import joblib\n",
    "\n"
   ]
  },
  {
   "cell_type": "code",
   "execution_count": 2,
   "metadata": {},
   "outputs": [
    {
     "data": {
      "text/plain": [
       "Index(['Immoweb ID', 'Property type', 'property sub-type', 'Price',\n",
       "       'Post code', 'Building condition', 'Kitchen type', 'Bedrooms',\n",
       "       'Furnished', 'Terrace surface', 'Tenement building',\n",
       "       'Number of frontages', 'Swimming pool', 'How many fireplaces?',\n",
       "       'Garden', 'Terrace', 'Surface of the plot', 'Living area',\n",
       "       'Garden surface', 'Garden orientation'],\n",
       "      dtype='object')"
      ]
     },
     "execution_count": 2,
     "metadata": {},
     "output_type": "execute_result"
    }
   ],
   "source": [
    "raw_data.columns"
   ]
  },
  {
   "cell_type": "code",
   "execution_count": 3,
   "metadata": {},
   "outputs": [
    {
     "data": {
      "text/plain": [
       "'data = {\\n  \"data\": {\\n    \"area\": int,\\n    \"property-type\": str,\\n    \"rooms-number\": int,\\n    \"zip-code\": int,\\n    \"land-area\": Optional[int],\\n    \"garden\": Optional[bool],\\n    \"garden-area\": Optional[int],\\n    \"equipped-kitchen\": Optional[bool],\\n    \"full-address\": Optional[str],\\n    \"swimming-pool\": Optional[bool],\\n    \"furnished\": Optional[bool],\\n    \"open-fire\": Optional[bool],\\n    \"terrace\": Optional[bool],\\n    \"terrace-area\": Optional[int],\\n    \"facades-number\": Optional[int],\\n    \"building-state\": Optional[str]\\n  }\\n}'"
      ]
     },
     "execution_count": 3,
     "metadata": {},
     "output_type": "execute_result"
    }
   ],
   "source": [
    "'''data = {\n",
    "  \"data\": {\n",
    "    \"area\": int,\n",
    "    \"property-type\": str,\n",
    "    \"rooms-number\": int,\n",
    "    \"zip-code\": int,\n",
    "    \"land-area\": Optional[int],\n",
    "    \"garden\": Optional[bool],\n",
    "    \"garden-area\": Optional[int],\n",
    "    \"equipped-kitchen\": Optional[bool],\n",
    "    \"full-address\": Optional[str],\n",
    "    \"swimming-pool\": Optional[bool],\n",
    "    \"furnished\": Optional[bool],\n",
    "    \"open-fire\": Optional[bool],\n",
    "    \"terrace\": Optional[bool],\n",
    "    \"terrace-area\": Optional[int],\n",
    "    \"facades-number\": Optional[int],\n",
    "    \"building-state\": Optional[str]\n",
    "  }\n",
    "}'''"
   ]
  },
  {
   "cell_type": "code",
   "execution_count": 4,
   "metadata": {},
   "outputs": [],
   "source": [
    "living_area:str = \"Living area\" # \"area\":int\n",
    "property_type:str = \"Property type\" #\"property-type\": str\n",
    "bedrooms:int = \"Bedrooms\" #\"rooms-number\": int\n",
    "post_code:int = \"Post code\" #\"zip-code\": int"
   ]
  },
  {
   "cell_type": "code",
   "execution_count": 5,
   "metadata": {},
   "outputs": [],
   "source": [
    "data = {\n",
    "  0 : {\n",
    "    \"area\": 230,\n",
    "    \"property-type\":\"APARTMENT\",\n",
    "    \"rooms-number\":3,\n",
    "    \"zip-code\": 9820,\n",
    "  }\n",
    "}"
   ]
  },
  {
   "cell_type": "code",
   "execution_count": 6,
   "metadata": {},
   "outputs": [],
   "source": [
    "data_encoded = {\n",
    "    0:{}\n",
    "}"
   ]
  },
  {
   "cell_type": "code",
   "execution_count": 7,
   "metadata": {},
   "outputs": [],
   "source": [
    "\n",
    "columns = raw_data.columns\n",
    "my_list = ['Immoweb ID', 'Property type', 'property sub-type', 'Price',\n",
    "       'Post code', 'Building condition', 'Kitchen type', 'Bedrooms',\n",
    "       'Furnished', 'Terrace surface', 'Tenement building',\n",
    "       'Number of frontages', 'Swimming pool', 'How many fireplaces?',\n",
    "       'Garden', 'Terrace', 'Surface of the plot', 'Living area',\n",
    "       'Garden surface', 'Garden orientation']\n",
    "\n",
    "for elem in columns:\n",
    "    for label in my_list:\n",
    "        if label != living_area or label != property_type or label != bedrooms or label != post_code:\n",
    "            if elem == 'Immoweb ID':\n",
    "                data_encoded[0][elem] = 7921700\n",
    "            if elem == property_type:\n",
    "                data_encoded[0][property_type] = data[0]['property-type']\n",
    "            if elem == 'property sub-type':\n",
    "                data_encoded[0][elem] = \"unknown\"\n",
    "            if elem == 'Price':\n",
    "                data_encoded[0][elem] = 0\n",
    "            if elem == post_code:\n",
    "                data_encoded[0][post_code] = str(data[0]['zip-code'])\n",
    "            if elem == 'Building condition':\n",
    "                data_encoded[0][elem] = \"bad\"\n",
    "            if elem == 'Kitchen type':\n",
    "                data_encoded[0][elem] = \"super equiped\"\n",
    "            if elem == bedrooms:\n",
    "                data_encoded[0][bedrooms] = data[0]['rooms-number']\n",
    "            if elem == 'Furnished':\n",
    "                data_encoded[0][elem] = False\n",
    "            if elem == 'Terrace surface':\n",
    "                data_encoded[0][elem] = 20\n",
    "            if elem == 'Tenement building':\n",
    "                data_encoded[0][elem] = False\n",
    "            if elem == 'Number of frontages':\n",
    "                data_encoded[0][elem] = 0\n",
    "            if elem == 'Swimming pool':\n",
    "                data_encoded[0][elem] = True\n",
    "            if elem == 'How many fireplaces?':\n",
    "                data_encoded[0][elem] = 0\n",
    "            if elem == 'Garden':\n",
    "                data_encoded[0][elem] = 0\n",
    "            if elem == 'Terrace':\n",
    "                data_encoded[0][elem] = 0\n",
    "            if elem == 'Surface of the plot':\n",
    "                data_encoded[0][elem] = 350\n",
    "            if elem == living_area:\n",
    "                data_encoded[0][living_area] = data[0]['area']\n",
    "            if elem == 'Garden surface':\n",
    "                data_encoded[0][elem] = 0\n",
    "            if elem == 'Garden orientation':\n",
    "                data_encoded[0][elem] = 0\n"
   ]
  },
  {
   "cell_type": "code",
   "execution_count": 8,
   "metadata": {},
   "outputs": [],
   "source": [
    "df = pd.DataFrame.from_dict(data_encoded,orient=\"index\")"
   ]
  },
  {
   "cell_type": "code",
   "execution_count": null,
   "metadata": {},
   "outputs": [],
   "source": []
  },
  {
   "cell_type": "code",
   "execution_count": 9,
   "metadata": {},
   "outputs": [
    {
     "data": {
      "text/html": [
       "<div>\n",
       "<style scoped>\n",
       "    .dataframe tbody tr th:only-of-type {\n",
       "        vertical-align: middle;\n",
       "    }\n",
       "\n",
       "    .dataframe tbody tr th {\n",
       "        vertical-align: top;\n",
       "    }\n",
       "\n",
       "    .dataframe thead th {\n",
       "        text-align: right;\n",
       "    }\n",
       "</style>\n",
       "<table border=\"1\" class=\"dataframe\">\n",
       "  <thead>\n",
       "    <tr style=\"text-align: right;\">\n",
       "      <th></th>\n",
       "      <th>Immoweb ID</th>\n",
       "      <th>Property type</th>\n",
       "      <th>property sub-type</th>\n",
       "      <th>Price</th>\n",
       "      <th>Post code</th>\n",
       "      <th>Building condition</th>\n",
       "      <th>Kitchen type</th>\n",
       "      <th>Bedrooms</th>\n",
       "      <th>Furnished</th>\n",
       "      <th>Terrace surface</th>\n",
       "      <th>Tenement building</th>\n",
       "      <th>Number of frontages</th>\n",
       "      <th>Swimming pool</th>\n",
       "      <th>How many fireplaces?</th>\n",
       "      <th>Garden</th>\n",
       "      <th>Terrace</th>\n",
       "      <th>Surface of the plot</th>\n",
       "      <th>Living area</th>\n",
       "      <th>Garden surface</th>\n",
       "      <th>Garden orientation</th>\n",
       "    </tr>\n",
       "  </thead>\n",
       "  <tbody>\n",
       "    <tr>\n",
       "      <th>0</th>\n",
       "      <td>7921700</td>\n",
       "      <td>APARTMENT</td>\n",
       "      <td>unknown</td>\n",
       "      <td>0</td>\n",
       "      <td>9820</td>\n",
       "      <td>bad</td>\n",
       "      <td>super equiped</td>\n",
       "      <td>3</td>\n",
       "      <td>False</td>\n",
       "      <td>20</td>\n",
       "      <td>False</td>\n",
       "      <td>0</td>\n",
       "      <td>True</td>\n",
       "      <td>0</td>\n",
       "      <td>0</td>\n",
       "      <td>0</td>\n",
       "      <td>350</td>\n",
       "      <td>230</td>\n",
       "      <td>0</td>\n",
       "      <td>0</td>\n",
       "    </tr>\n",
       "  </tbody>\n",
       "</table>\n",
       "</div>"
      ],
      "text/plain": [
       "   Immoweb ID Property type property sub-type  Price Post code  \\\n",
       "0     7921700     APARTMENT           unknown      0      9820   \n",
       "\n",
       "  Building condition   Kitchen type  Bedrooms  Furnished  Terrace surface  \\\n",
       "0                bad  super equiped         3      False               20   \n",
       "\n",
       "   Tenement building  Number of frontages  Swimming pool  \\\n",
       "0              False                    0           True   \n",
       "\n",
       "   How many fireplaces?  Garden  Terrace  Surface of the plot  Living area  \\\n",
       "0                     0       0        0                  350          230   \n",
       "\n",
       "   Garden surface  Garden orientation  \n",
       "0               0                   0  "
      ]
     },
     "execution_count": 9,
     "metadata": {},
     "output_type": "execute_result"
    }
   ],
   "source": [
    "df"
   ]
  },
  {
   "cell_type": "code",
   "execution_count": 10,
   "metadata": {},
   "outputs": [
    {
     "name": "stderr",
     "output_type": "stream",
     "text": [
      "/home/becode/Fortune/Projects/API-Immo/preprocessing/cleaning_data.py:240: SettingWithCopyWarning: \n",
      "A value is trying to be set on a copy of a slice from a DataFrame\n",
      "\n",
      "See the caveats in the documentation: https://pandas.pydata.org/pandas-docs/stable/user_guide/indexing.html#returning-a-view-versus-a-copy\n",
      "  df_reg[big_elem].iloc[-1] = df.iloc[0][small_elem]\n"
     ]
    }
   ],
   "source": [
    "\n",
    "df_reg,X = preprocess(df)"
   ]
  },
  {
   "cell_type": "code",
   "execution_count": 11,
   "metadata": {},
   "outputs": [],
   "source": [
    "linear_regression_model(df_reg)"
   ]
  },
  {
   "cell_type": "code",
   "execution_count": 12,
   "metadata": {},
   "outputs": [],
   "source": [
    "#X.drop(labels=[\"log_price\"])"
   ]
  },
  {
   "cell_type": "code",
   "execution_count": 13,
   "metadata": {},
   "outputs": [
    {
     "data": {
      "text/plain": [
       "pandas.core.series.Series"
      ]
     },
     "execution_count": 13,
     "metadata": {},
     "output_type": "execute_result"
    }
   ],
   "source": [
    "type(X)"
   ]
  },
  {
   "cell_type": "code",
   "execution_count": 14,
   "metadata": {},
   "outputs": [
    {
     "data": {
      "text/plain": [
       "Index(['Kitchen type', 'Bedrooms', 'Furnished', 'Swimming pool', 'Garden',\n",
       "       'Terrace', 'Surface of the plot', 'Living area', 'log_price',\n",
       "       'property sub-type_BUNGALOW',\n",
       "       ...\n",
       "       'Post code_9550', 'Post code_9600', 'Post code_9620', 'Post code_9700',\n",
       "       'Post code_9800', 'Post code_9820', 'Post code_9880', 'Post code_9900',\n",
       "       'Post code_9940', 'Post code_other'],\n",
       "      dtype='object', length=195)"
      ]
     },
     "execution_count": 14,
     "metadata": {},
     "output_type": "execute_result"
    }
   ],
   "source": [
    "X.index"
   ]
  },
  {
   "cell_type": "code",
   "execution_count": 15,
   "metadata": {},
   "outputs": [
    {
     "data": {
      "text/plain": [
       "Kitchen type       0.0\n",
       "Bedrooms           3.0\n",
       "Furnished          1.0\n",
       "Swimming pool      1.0\n",
       "Garden             0.0\n",
       "                  ... \n",
       "Post code_9820     0.0\n",
       "Post code_9880     0.0\n",
       "Post code_9900     0.0\n",
       "Post code_9940     0.0\n",
       "Post code_other    0.0\n",
       "Name: 7641, Length: 195, dtype: float64"
      ]
     },
     "execution_count": 15,
     "metadata": {},
     "output_type": "execute_result"
    }
   ],
   "source": [
    "X\n"
   ]
  },
  {
   "cell_type": "code",
   "execution_count": 16,
   "metadata": {},
   "outputs": [
    {
     "data": {
      "text/plain": [
       "array([  0.        ,   3.        ,   1.        ,   1.        ,\n",
       "         0.        ,   0.        , 350.        , 230.        ,\n",
       "        12.44317827,   0.        ,   0.        ,   0.        ,\n",
       "         0.        ,   0.        ,   0.        ,   0.        ,\n",
       "         0.        ,   0.        ,   0.        ,   0.        ,\n",
       "         0.        ,   0.        ,   0.        ,   0.        ,\n",
       "         1.        ,   0.        ,   0.        ,   0.        ,\n",
       "         0.        ,   0.        ,   0.        ,   0.        ,\n",
       "         0.        ,   0.        ,   0.        ,   0.        ,\n",
       "         0.        ,   0.        ,   0.        ,   0.        ,\n",
       "         0.        ,   0.        ,   0.        ,   0.        ,\n",
       "         0.        ,   0.        ,   0.        ,   0.        ,\n",
       "         0.        ,   0.        ,   0.        ,   0.        ,\n",
       "         0.        ,   0.        ,   0.        ,   0.        ,\n",
       "         0.        ,   0.        ,   0.        ,   0.        ,\n",
       "         0.        ,   0.        ,   0.        ,   0.        ,\n",
       "         0.        ,   0.        ,   0.        ,   0.        ,\n",
       "         0.        ,   0.        ,   0.        ,   0.        ,\n",
       "         0.        ,   0.        ,   0.        ,   0.        ,\n",
       "         0.        ,   0.        ,   0.        ,   0.        ,\n",
       "         0.        ,   0.        ,   0.        ,   0.        ,\n",
       "         0.        ,   0.        ,   0.        ,   0.        ,\n",
       "         0.        ,   0.        ,   0.        ,   0.        ,\n",
       "         0.        ,   0.        ,   0.        ,   0.        ,\n",
       "         0.        ,   0.        ,   0.        ,   0.        ,\n",
       "         0.        ,   0.        ,   0.        ,   0.        ,\n",
       "         0.        ,   0.        ,   1.        ,   0.        ,\n",
       "         0.        ,   0.        ,   0.        ,   0.        ,\n",
       "         0.        ,   0.        ,   0.        ,   0.        ,\n",
       "         0.        ,   0.        ,   0.        ,   0.        ,\n",
       "         0.        ,   0.        ,   0.        ,   0.        ,\n",
       "         0.        ,   0.        ,   0.        ,   0.        ,\n",
       "         0.        ,   0.        ,   0.        ,   0.        ,\n",
       "         0.        ,   0.        ,   0.        ,   0.        ,\n",
       "         0.        ,   0.        ,   0.        ,   0.        ,\n",
       "         0.        ,   0.        ,   0.        ,   0.        ,\n",
       "         0.        ,   0.        ,   0.        ,   0.        ,\n",
       "         0.        ,   0.        ,   0.        ,   0.        ,\n",
       "         0.        ,   0.        ,   0.        ,   0.        ,\n",
       "         0.        ,   0.        ,   0.        ,   0.        ,\n",
       "         0.        ,   0.        ,   0.        ,   0.        ,\n",
       "         0.        ,   0.        ,   0.        ,   0.        ,\n",
       "         0.        ,   0.        ,   0.        ,   0.        ,\n",
       "         0.        ,   0.        ,   0.        ,   0.        ,\n",
       "         0.        ,   0.        ,   0.        ,   0.        ,\n",
       "         0.        ,   0.        ,   0.        ,   0.        ,\n",
       "         0.        ,   0.        ,   0.        ,   0.        ,\n",
       "         0.        ,   0.        ,   0.        ,   0.        ,\n",
       "         0.        ,   0.        ,   0.        ])"
      ]
     },
     "execution_count": 16,
     "metadata": {},
     "output_type": "execute_result"
    }
   ],
   "source": [
    "X.values"
   ]
  },
  {
   "cell_type": "code",
   "execution_count": 17,
   "metadata": {},
   "outputs": [
    {
     "data": {
      "text/plain": [
       "454496.27"
      ]
     },
     "execution_count": 17,
     "metadata": {},
     "output_type": "execute_result"
    }
   ],
   "source": [
    "predict_linear_regression(X)"
   ]
  },
  {
   "cell_type": "code",
   "execution_count": null,
   "metadata": {},
   "outputs": [],
   "source": []
  },
  {
   "cell_type": "code",
   "execution_count": 18,
   "metadata": {},
   "outputs": [
    {
     "data": {
      "text/html": [
       "<div>\n",
       "<style scoped>\n",
       "    .dataframe tbody tr th:only-of-type {\n",
       "        vertical-align: middle;\n",
       "    }\n",
       "\n",
       "    .dataframe tbody tr th {\n",
       "        vertical-align: top;\n",
       "    }\n",
       "\n",
       "    .dataframe thead th {\n",
       "        text-align: right;\n",
       "    }\n",
       "</style>\n",
       "<table border=\"1\" class=\"dataframe\">\n",
       "  <thead>\n",
       "    <tr style=\"text-align: right;\">\n",
       "      <th></th>\n",
       "      <th>Kitchen type</th>\n",
       "      <th>Bedrooms</th>\n",
       "      <th>Furnished</th>\n",
       "      <th>Swimming pool</th>\n",
       "      <th>Garden</th>\n",
       "      <th>Terrace</th>\n",
       "      <th>Surface of the plot</th>\n",
       "      <th>Living area</th>\n",
       "      <th>log_price</th>\n",
       "      <th>property sub-type_BUNGALOW</th>\n",
       "      <th>...</th>\n",
       "      <th>Post code_9550</th>\n",
       "      <th>Post code_9600</th>\n",
       "      <th>Post code_9620</th>\n",
       "      <th>Post code_9700</th>\n",
       "      <th>Post code_9800</th>\n",
       "      <th>Post code_9820</th>\n",
       "      <th>Post code_9880</th>\n",
       "      <th>Post code_9900</th>\n",
       "      <th>Post code_9940</th>\n",
       "      <th>Post code_other</th>\n",
       "    </tr>\n",
       "  </thead>\n",
       "  <tbody>\n",
       "    <tr>\n",
       "      <th>0</th>\n",
       "      <td>1.0</td>\n",
       "      <td>1</td>\n",
       "      <td>1</td>\n",
       "      <td>1</td>\n",
       "      <td>0</td>\n",
       "      <td>1</td>\n",
       "      <td>0.0</td>\n",
       "      <td>63.0</td>\n",
       "      <td>12.095141</td>\n",
       "      <td>0</td>\n",
       "      <td>...</td>\n",
       "      <td>0</td>\n",
       "      <td>0</td>\n",
       "      <td>0</td>\n",
       "      <td>0</td>\n",
       "      <td>0</td>\n",
       "      <td>0</td>\n",
       "      <td>0</td>\n",
       "      <td>0</td>\n",
       "      <td>0</td>\n",
       "      <td>0</td>\n",
       "    </tr>\n",
       "    <tr>\n",
       "      <th>1</th>\n",
       "      <td>1.0</td>\n",
       "      <td>1</td>\n",
       "      <td>1</td>\n",
       "      <td>1</td>\n",
       "      <td>0</td>\n",
       "      <td>1</td>\n",
       "      <td>0.0</td>\n",
       "      <td>42.0</td>\n",
       "      <td>12.449019</td>\n",
       "      <td>0</td>\n",
       "      <td>...</td>\n",
       "      <td>0</td>\n",
       "      <td>0</td>\n",
       "      <td>0</td>\n",
       "      <td>0</td>\n",
       "      <td>0</td>\n",
       "      <td>0</td>\n",
       "      <td>0</td>\n",
       "      <td>0</td>\n",
       "      <td>0</td>\n",
       "      <td>0</td>\n",
       "    </tr>\n",
       "    <tr>\n",
       "      <th>2</th>\n",
       "      <td>1.0</td>\n",
       "      <td>1</td>\n",
       "      <td>1</td>\n",
       "      <td>1</td>\n",
       "      <td>0</td>\n",
       "      <td>1</td>\n",
       "      <td>0.0</td>\n",
       "      <td>42.0</td>\n",
       "      <td>12.449019</td>\n",
       "      <td>0</td>\n",
       "      <td>...</td>\n",
       "      <td>0</td>\n",
       "      <td>0</td>\n",
       "      <td>0</td>\n",
       "      <td>0</td>\n",
       "      <td>0</td>\n",
       "      <td>0</td>\n",
       "      <td>0</td>\n",
       "      <td>0</td>\n",
       "      <td>0</td>\n",
       "      <td>0</td>\n",
       "    </tr>\n",
       "    <tr>\n",
       "      <th>3</th>\n",
       "      <td>1.0</td>\n",
       "      <td>3</td>\n",
       "      <td>1</td>\n",
       "      <td>1</td>\n",
       "      <td>0</td>\n",
       "      <td>1</td>\n",
       "      <td>0.0</td>\n",
       "      <td>150.0</td>\n",
       "      <td>13.337475</td>\n",
       "      <td>0</td>\n",
       "      <td>...</td>\n",
       "      <td>0</td>\n",
       "      <td>0</td>\n",
       "      <td>0</td>\n",
       "      <td>0</td>\n",
       "      <td>0</td>\n",
       "      <td>0</td>\n",
       "      <td>0</td>\n",
       "      <td>0</td>\n",
       "      <td>0</td>\n",
       "      <td>0</td>\n",
       "    </tr>\n",
       "    <tr>\n",
       "      <th>4</th>\n",
       "      <td>2.0</td>\n",
       "      <td>2</td>\n",
       "      <td>0</td>\n",
       "      <td>0</td>\n",
       "      <td>0</td>\n",
       "      <td>1</td>\n",
       "      <td>0.0</td>\n",
       "      <td>120.0</td>\n",
       "      <td>12.845291</td>\n",
       "      <td>0</td>\n",
       "      <td>...</td>\n",
       "      <td>0</td>\n",
       "      <td>0</td>\n",
       "      <td>0</td>\n",
       "      <td>0</td>\n",
       "      <td>0</td>\n",
       "      <td>0</td>\n",
       "      <td>0</td>\n",
       "      <td>0</td>\n",
       "      <td>0</td>\n",
       "      <td>0</td>\n",
       "    </tr>\n",
       "    <tr>\n",
       "      <th>...</th>\n",
       "      <td>...</td>\n",
       "      <td>...</td>\n",
       "      <td>...</td>\n",
       "      <td>...</td>\n",
       "      <td>...</td>\n",
       "      <td>...</td>\n",
       "      <td>...</td>\n",
       "      <td>...</td>\n",
       "      <td>...</td>\n",
       "      <td>...</td>\n",
       "      <td>...</td>\n",
       "      <td>...</td>\n",
       "      <td>...</td>\n",
       "      <td>...</td>\n",
       "      <td>...</td>\n",
       "      <td>...</td>\n",
       "      <td>...</td>\n",
       "      <td>...</td>\n",
       "      <td>...</td>\n",
       "      <td>...</td>\n",
       "      <td>...</td>\n",
       "    </tr>\n",
       "    <tr>\n",
       "      <th>7637</th>\n",
       "      <td>2.0</td>\n",
       "      <td>1</td>\n",
       "      <td>0</td>\n",
       "      <td>1</td>\n",
       "      <td>0</td>\n",
       "      <td>1</td>\n",
       "      <td>0.0</td>\n",
       "      <td>62.0</td>\n",
       "      <td>12.396693</td>\n",
       "      <td>0</td>\n",
       "      <td>...</td>\n",
       "      <td>0</td>\n",
       "      <td>0</td>\n",
       "      <td>0</td>\n",
       "      <td>0</td>\n",
       "      <td>0</td>\n",
       "      <td>0</td>\n",
       "      <td>0</td>\n",
       "      <td>0</td>\n",
       "      <td>0</td>\n",
       "      <td>0</td>\n",
       "    </tr>\n",
       "    <tr>\n",
       "      <th>7638</th>\n",
       "      <td>0.0</td>\n",
       "      <td>1</td>\n",
       "      <td>0</td>\n",
       "      <td>1</td>\n",
       "      <td>0</td>\n",
       "      <td>1</td>\n",
       "      <td>0.0</td>\n",
       "      <td>55.0</td>\n",
       "      <td>12.818552</td>\n",
       "      <td>0</td>\n",
       "      <td>...</td>\n",
       "      <td>0</td>\n",
       "      <td>0</td>\n",
       "      <td>0</td>\n",
       "      <td>0</td>\n",
       "      <td>0</td>\n",
       "      <td>0</td>\n",
       "      <td>0</td>\n",
       "      <td>0</td>\n",
       "      <td>0</td>\n",
       "      <td>0</td>\n",
       "    </tr>\n",
       "    <tr>\n",
       "      <th>7639</th>\n",
       "      <td>0.0</td>\n",
       "      <td>1</td>\n",
       "      <td>0</td>\n",
       "      <td>1</td>\n",
       "      <td>0</td>\n",
       "      <td>1</td>\n",
       "      <td>0.0</td>\n",
       "      <td>65.0</td>\n",
       "      <td>12.287653</td>\n",
       "      <td>0</td>\n",
       "      <td>...</td>\n",
       "      <td>0</td>\n",
       "      <td>0</td>\n",
       "      <td>0</td>\n",
       "      <td>0</td>\n",
       "      <td>0</td>\n",
       "      <td>0</td>\n",
       "      <td>1</td>\n",
       "      <td>0</td>\n",
       "      <td>0</td>\n",
       "      <td>0</td>\n",
       "    </tr>\n",
       "    <tr>\n",
       "      <th>7640</th>\n",
       "      <td>0.0</td>\n",
       "      <td>1</td>\n",
       "      <td>0</td>\n",
       "      <td>1</td>\n",
       "      <td>0</td>\n",
       "      <td>0</td>\n",
       "      <td>0.0</td>\n",
       "      <td>52.0</td>\n",
       "      <td>11.908340</td>\n",
       "      <td>0</td>\n",
       "      <td>...</td>\n",
       "      <td>0</td>\n",
       "      <td>0</td>\n",
       "      <td>0</td>\n",
       "      <td>0</td>\n",
       "      <td>0</td>\n",
       "      <td>0</td>\n",
       "      <td>0</td>\n",
       "      <td>0</td>\n",
       "      <td>0</td>\n",
       "      <td>1</td>\n",
       "    </tr>\n",
       "    <tr>\n",
       "      <th>7641</th>\n",
       "      <td>0.0</td>\n",
       "      <td>3</td>\n",
       "      <td>1</td>\n",
       "      <td>1</td>\n",
       "      <td>0</td>\n",
       "      <td>0</td>\n",
       "      <td>350.0</td>\n",
       "      <td>230.0</td>\n",
       "      <td>12.443178</td>\n",
       "      <td>0</td>\n",
       "      <td>...</td>\n",
       "      <td>0</td>\n",
       "      <td>0</td>\n",
       "      <td>0</td>\n",
       "      <td>0</td>\n",
       "      <td>0</td>\n",
       "      <td>0</td>\n",
       "      <td>0</td>\n",
       "      <td>0</td>\n",
       "      <td>0</td>\n",
       "      <td>0</td>\n",
       "    </tr>\n",
       "  </tbody>\n",
       "</table>\n",
       "<p>7642 rows × 195 columns</p>\n",
       "</div>"
      ],
      "text/plain": [
       "      Kitchen type  Bedrooms  Furnished  Swimming pool  Garden  Terrace  \\\n",
       "0              1.0         1          1              1       0        1   \n",
       "1              1.0         1          1              1       0        1   \n",
       "2              1.0         1          1              1       0        1   \n",
       "3              1.0         3          1              1       0        1   \n",
       "4              2.0         2          0              0       0        1   \n",
       "...            ...       ...        ...            ...     ...      ...   \n",
       "7637           2.0         1          0              1       0        1   \n",
       "7638           0.0         1          0              1       0        1   \n",
       "7639           0.0         1          0              1       0        1   \n",
       "7640           0.0         1          0              1       0        0   \n",
       "7641           0.0         3          1              1       0        0   \n",
       "\n",
       "      Surface of the plot  Living area  log_price  property sub-type_BUNGALOW  \\\n",
       "0                     0.0         63.0  12.095141                           0   \n",
       "1                     0.0         42.0  12.449019                           0   \n",
       "2                     0.0         42.0  12.449019                           0   \n",
       "3                     0.0        150.0  13.337475                           0   \n",
       "4                     0.0        120.0  12.845291                           0   \n",
       "...                   ...          ...        ...                         ...   \n",
       "7637                  0.0         62.0  12.396693                           0   \n",
       "7638                  0.0         55.0  12.818552                           0   \n",
       "7639                  0.0         65.0  12.287653                           0   \n",
       "7640                  0.0         52.0  11.908340                           0   \n",
       "7641                350.0        230.0  12.443178                           0   \n",
       "\n",
       "      ...  Post code_9550  Post code_9600  Post code_9620  Post code_9700  \\\n",
       "0     ...               0               0               0               0   \n",
       "1     ...               0               0               0               0   \n",
       "2     ...               0               0               0               0   \n",
       "3     ...               0               0               0               0   \n",
       "4     ...               0               0               0               0   \n",
       "...   ...             ...             ...             ...             ...   \n",
       "7637  ...               0               0               0               0   \n",
       "7638  ...               0               0               0               0   \n",
       "7639  ...               0               0               0               0   \n",
       "7640  ...               0               0               0               0   \n",
       "7641  ...               0               0               0               0   \n",
       "\n",
       "      Post code_9800  Post code_9820  Post code_9880  Post code_9900  \\\n",
       "0                  0               0               0               0   \n",
       "1                  0               0               0               0   \n",
       "2                  0               0               0               0   \n",
       "3                  0               0               0               0   \n",
       "4                  0               0               0               0   \n",
       "...              ...             ...             ...             ...   \n",
       "7637               0               0               0               0   \n",
       "7638               0               0               0               0   \n",
       "7639               0               0               1               0   \n",
       "7640               0               0               0               0   \n",
       "7641               0               0               0               0   \n",
       "\n",
       "      Post code_9940  Post code_other  \n",
       "0                  0                0  \n",
       "1                  0                0  \n",
       "2                  0                0  \n",
       "3                  0                0  \n",
       "4                  0                0  \n",
       "...              ...              ...  \n",
       "7637               0                0  \n",
       "7638               0                0  \n",
       "7639               0                0  \n",
       "7640               0                1  \n",
       "7641               0                0  \n",
       "\n",
       "[7642 rows x 195 columns]"
      ]
     },
     "execution_count": 18,
     "metadata": {},
     "output_type": "execute_result"
    }
   ],
   "source": [
    "df_reg"
   ]
  },
  {
   "cell_type": "code",
   "execution_count": 19,
   "metadata": {},
   "outputs": [
    {
     "data": {
      "text/plain": [
       "0       12.095141\n",
       "1       12.449019\n",
       "2       12.449019\n",
       "3       13.337475\n",
       "4       12.845291\n",
       "          ...    \n",
       "7637    12.396693\n",
       "7638    12.818552\n",
       "7639    12.287653\n",
       "7640    11.908340\n",
       "7641    12.443178\n",
       "Name: log_price, Length: 7642, dtype: float64"
      ]
     },
     "execution_count": 19,
     "metadata": {},
     "output_type": "execute_result"
    }
   ],
   "source": [
    "df_reg[\"log_price\"]"
   ]
  },
  {
   "cell_type": "code",
   "execution_count": 20,
   "metadata": {},
   "outputs": [
    {
     "data": {
      "text/plain": [
       "195"
      ]
     },
     "execution_count": 20,
     "metadata": {},
     "output_type": "execute_result"
    }
   ],
   "source": [
    "len(X.to_numpy())"
   ]
  },
  {
   "cell_type": "code",
   "execution_count": 21,
   "metadata": {},
   "outputs": [
    {
     "ename": "NameError",
     "evalue": "name 'linear_regression_model_client' is not defined",
     "output_type": "error",
     "traceback": [
      "\u001b[0;31m---------------------------------------------------------------------------\u001b[0m",
      "\u001b[0;31mNameError\u001b[0m                                 Traceback (most recent call last)",
      "\u001b[1;32m/home/becode/Fortune/Projects/API-Immo/test.ipynb Cell 23'\u001b[0m in \u001b[0;36m<cell line: 1>\u001b[0;34m()\u001b[0m\n\u001b[0;32m----> <a href='vscode-notebook-cell:/home/becode/Fortune/Projects/API-Immo/test.ipynb#ch0000012?line=0'>1</a>\u001b[0m y_hat \u001b[39m=\u001b[39m linear_regression_model_client(df_reg,X)\n",
      "\u001b[0;31mNameError\u001b[0m: name 'linear_regression_model_client' is not defined"
     ]
    }
   ],
   "source": [
    "y_hat = linear_regression_model_client(df_reg,X)"
   ]
  },
  {
   "cell_type": "code",
   "execution_count": null,
   "metadata": {},
   "outputs": [],
   "source": [
    "y_hat"
   ]
  },
  {
   "cell_type": "code",
   "execution_count": null,
   "metadata": {},
   "outputs": [],
   "source": [
    "X"
   ]
  },
  {
   "cell_type": "code",
   "execution_count": null,
   "metadata": {},
   "outputs": [],
   "source": [
    "y = predict_linear_regression_client(regressor,X)"
   ]
  },
  {
   "cell_type": "code",
   "execution_count": null,
   "metadata": {},
   "outputs": [],
   "source": [
    "y"
   ]
  },
  {
   "cell_type": "code",
   "execution_count": null,
   "metadata": {},
   "outputs": [],
   "source": [
    "from jsonschema import validate\n",
    "\n",
    "\n",
    "validate(instance=42, schema={\"type\":\"integer\"})"
   ]
  },
  {
   "cell_type": "code",
   "execution_count": null,
   "metadata": {},
   "outputs": [],
   "source": [
    "validate(instance=\"dodo\", schema={\"type\":\"integer\"})"
   ]
  },
  {
   "cell_type": "code",
   "execution_count": null,
   "metadata": {},
   "outputs": [],
   "source": []
  }
 ],
 "metadata": {
  "interpreter": {
   "hash": "008746b9fc8a8dd7587d70678da85d2496e66d310b4ab7cd61a0f00142adab8c"
  },
  "kernelspec": {
   "display_name": "Python 3.8.10 ('env-API-Immo': venv)",
   "language": "python",
   "name": "python3"
  },
  "language_info": {
   "codemirror_mode": {
    "name": "ipython",
    "version": 3
   },
   "file_extension": ".py",
   "mimetype": "text/x-python",
   "name": "python",
   "nbconvert_exporter": "python",
   "pygments_lexer": "ipython3",
   "version": "3.8.10"
  },
  "orig_nbformat": 4
 },
 "nbformat": 4,
 "nbformat_minor": 2
}
