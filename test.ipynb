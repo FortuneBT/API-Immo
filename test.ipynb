{
 "cells": [
  {
   "cell_type": "code",
   "execution_count": 1,
   "metadata": {},
   "outputs": [],
   "source": [
    "import pandas as pd\n",
    "import numpy as np\n",
    "from typing import Optional,List,Dict\n",
    "from model.mymodel import linear_regression_model\n",
    "from model.mymodel import linear_regression_model_client\n",
    "from predict.prediction import predict_linear_regression\n",
    "from predict.prediction import predict_linear_regression_client\n",
    "from preprocessing.cleaning_data import raw_data\n",
    "from preprocessing.cleaning_data import start_dataframe\n",
    "from preprocessing.cleaning_data import preprocess\n",
    "\n"
   ]
  },
  {
   "cell_type": "code",
   "execution_count": 2,
   "metadata": {},
   "outputs": [
    {
     "data": {
      "text/plain": [
       "Index(['Immoweb ID', 'Property type', 'property sub-type', 'Price',\n",
       "       'Post code', 'Building condition', 'Kitchen type', 'Bedrooms',\n",
       "       'Furnished', 'Terrace surface', 'Tenement building',\n",
       "       'Number of frontages', 'Swimming pool', 'How many fireplaces?',\n",
       "       'Garden', 'Terrace', 'Surface of the plot', 'Living area',\n",
       "       'Garden surface', 'Garden orientation'],\n",
       "      dtype='object')"
      ]
     },
     "execution_count": 2,
     "metadata": {},
     "output_type": "execute_result"
    }
   ],
   "source": [
    "raw_data.columns"
   ]
  },
  {
   "cell_type": "code",
   "execution_count": 3,
   "metadata": {},
   "outputs": [
    {
     "data": {
      "text/plain": [
       "'data = {\\n  \"data\": {\\n    \"area\": int,\\n    \"property-type\": str,\\n    \"rooms-number\": int,\\n    \"zip-code\": int,\\n    \"land-area\": Optional[int],\\n    \"garden\": Optional[bool],\\n    \"garden-area\": Optional[int],\\n    \"equipped-kitchen\": Optional[bool],\\n    \"full-address\": Optional[str],\\n    \"swimming-pool\": Optional[bool],\\n    \"furnished\": Optional[bool],\\n    \"open-fire\": Optional[bool],\\n    \"terrace\": Optional[bool],\\n    \"terrace-area\": Optional[int],\\n    \"facades-number\": Optional[int],\\n    \"building-state\": Optional[str]\\n  }\\n}'"
      ]
     },
     "execution_count": 3,
     "metadata": {},
     "output_type": "execute_result"
    }
   ],
   "source": [
    "'''data = {\n",
    "  \"data\": {\n",
    "    \"area\": int,\n",
    "    \"property-type\": str,\n",
    "    \"rooms-number\": int,\n",
    "    \"zip-code\": int,\n",
    "    \"land-area\": Optional[int],\n",
    "    \"garden\": Optional[bool],\n",
    "    \"garden-area\": Optional[int],\n",
    "    \"equipped-kitchen\": Optional[bool],\n",
    "    \"full-address\": Optional[str],\n",
    "    \"swimming-pool\": Optional[bool],\n",
    "    \"furnished\": Optional[bool],\n",
    "    \"open-fire\": Optional[bool],\n",
    "    \"terrace\": Optional[bool],\n",
    "    \"terrace-area\": Optional[int],\n",
    "    \"facades-number\": Optional[int],\n",
    "    \"building-state\": Optional[str]\n",
    "  }\n",
    "}'''"
   ]
  },
  {
   "cell_type": "code",
   "execution_count": 4,
   "metadata": {},
   "outputs": [],
   "source": [
    "living_area:str = \"Living area\" # \"area\":int\n",
    "property_type:str = \"Property type\" #\"property-type\": str\n",
    "bedrooms:int = \"Bedrooms\" #\"rooms-number\": int\n",
    "post_code:int = \"Post code\" #\"zip-code\": int"
   ]
  },
  {
   "cell_type": "code",
   "execution_count": 5,
   "metadata": {},
   "outputs": [],
   "source": [
    "data = {\n",
    "  0 : {\n",
    "    \"area\": 230,\n",
    "    \"property-type\":\"APARTMENT\",\n",
    "    \"rooms-number\":3,\n",
    "    \"zip-code\": 9820,\n",
    "  }\n",
    "}"
   ]
  },
  {
   "cell_type": "code",
   "execution_count": 6,
   "metadata": {},
   "outputs": [],
   "source": [
    "data_encoded = {\n",
    "    0:{}\n",
    "}"
   ]
  },
  {
   "cell_type": "code",
   "execution_count": 7,
   "metadata": {},
   "outputs": [],
   "source": [
    "\n",
    "columns = raw_data.columns\n",
    "my_list = ['Immoweb ID', 'Property type', 'property sub-type', 'Price',\n",
    "       'Post code', 'Building condition', 'Kitchen type', 'Bedrooms',\n",
    "       'Furnished', 'Terrace surface', 'Tenement building',\n",
    "       'Number of frontages', 'Swimming pool', 'How many fireplaces?',\n",
    "       'Garden', 'Terrace', 'Surface of the plot', 'Living area',\n",
    "       'Garden surface', 'Garden orientation']\n",
    "\n",
    "for elem in columns:\n",
    "    for label in my_list:\n",
    "        if label != living_area or label != property_type or label != bedrooms or label != post_code:\n",
    "            if elem == 'Immoweb ID':\n",
    "                data_encoded[0][elem] = 7921700\n",
    "            if elem == property_type:\n",
    "                data_encoded[0][property_type] = data[0]['property-type']\n",
    "            if elem == 'property sub-type':\n",
    "                data_encoded[0][elem] = \"unknown\"\n",
    "            if elem == 'Price':\n",
    "                data_encoded[0][elem] = 0\n",
    "            if elem == post_code:\n",
    "                data_encoded[0][post_code] = str(data[0]['zip-code'])\n",
    "            if elem == 'Building condition':\n",
    "                data_encoded[0][elem] = \"bad\"\n",
    "            if elem == 'Kitchen type':\n",
    "                data_encoded[0][elem] = \"super equiped\"\n",
    "            if elem == bedrooms:\n",
    "                data_encoded[0][bedrooms] = data[0]['rooms-number']\n",
    "            if elem == 'Furnished':\n",
    "                data_encoded[0][elem] = False\n",
    "            if elem == 'Terrace surface':\n",
    "                data_encoded[0][elem] = 20\n",
    "            if elem == 'Tenement building':\n",
    "                data_encoded[0][elem] = False\n",
    "            if elem == 'Number of frontages':\n",
    "                data_encoded[0][elem] = 0\n",
    "            if elem == 'Swimming pool':\n",
    "                data_encoded[0][elem] = True\n",
    "            if elem == 'How many fireplaces?':\n",
    "                data_encoded[0][elem] = 0\n",
    "            if elem == 'Garden':\n",
    "                data_encoded[0][elem] = 0\n",
    "            if elem == 'Terrace':\n",
    "                data_encoded[0][elem] = 0\n",
    "            if elem == 'Surface of the plot':\n",
    "                data_encoded[0][elem] = 350\n",
    "            if elem == living_area:\n",
    "                data_encoded[0][living_area] = data[0]['area']\n",
    "            if elem == 'Garden surface':\n",
    "                data_encoded[0][elem] = 0\n",
    "            if elem == 'Garden orientation':\n",
    "                data_encoded[0][elem] = 0\n"
   ]
  },
  {
   "cell_type": "code",
   "execution_count": 8,
   "metadata": {},
   "outputs": [],
   "source": [
    "df = pd.DataFrame.from_dict(data_encoded,orient=\"index\")"
   ]
  },
  {
   "cell_type": "code",
   "execution_count": 9,
   "metadata": {},
   "outputs": [
    {
     "name": "stderr",
     "output_type": "stream",
     "text": [
      "/home/becode/Fortune/Projects/API-Immo/preprocessing/cleaning_data.py:240: SettingWithCopyWarning: \n",
      "A value is trying to be set on a copy of a slice from a DataFrame\n",
      "\n",
      "See the caveats in the documentation: https://pandas.pydata.org/pandas-docs/stable/user_guide/indexing.html#returning-a-view-versus-a-copy\n",
      "  df_reg[big_elem].iloc[-1] = df.iloc[0][small_elem]\n"
     ]
    }
   ],
   "source": [
    "\n",
    "df_reg,X = preprocess(df)"
   ]
  },
  {
   "cell_type": "code",
   "execution_count": 10,
   "metadata": {},
   "outputs": [
    {
     "data": {
      "text/plain": [
       "Kitchen type       0.0\n",
       "Bedrooms           3.0\n",
       "Furnished          1.0\n",
       "Swimming pool      1.0\n",
       "Garden             0.0\n",
       "                  ... \n",
       "Post code_9820     0.0\n",
       "Post code_9880     0.0\n",
       "Post code_9900     0.0\n",
       "Post code_9940     0.0\n",
       "Post code_other    0.0\n",
       "Name: 7641, Length: 195, dtype: float64"
      ]
     },
     "execution_count": 10,
     "metadata": {},
     "output_type": "execute_result"
    }
   ],
   "source": [
    "X"
   ]
  },
  {
   "cell_type": "code",
   "execution_count": 11,
   "metadata": {},
   "outputs": [
    {
     "data": {
      "text/plain": [
       "0       12.095141\n",
       "1       12.449019\n",
       "2       12.449019\n",
       "3       13.337475\n",
       "4       12.845291\n",
       "          ...    \n",
       "7637    12.396693\n",
       "7638    12.818552\n",
       "7639    12.287653\n",
       "7640    11.908340\n",
       "7641    12.443178\n",
       "Name: log_price, Length: 7642, dtype: float64"
      ]
     },
     "execution_count": 11,
     "metadata": {},
     "output_type": "execute_result"
    }
   ],
   "source": [
    "df_reg[\"log_price\"]"
   ]
  },
  {
   "cell_type": "code",
   "execution_count": 12,
   "metadata": {},
   "outputs": [
    {
     "data": {
      "text/plain": [
       "195"
      ]
     },
     "execution_count": 12,
     "metadata": {},
     "output_type": "execute_result"
    }
   ],
   "source": [
    "len(X.to_numpy())"
   ]
  },
  {
   "cell_type": "code",
   "execution_count": 13,
   "metadata": {},
   "outputs": [],
   "source": [
    "regressor = linear_regression_model_client(df_reg,X)"
   ]
  },
  {
   "cell_type": "code",
   "execution_count": 14,
   "metadata": {},
   "outputs": [
    {
     "data": {
      "text/plain": [
       "(      Kitchen type  Bedrooms  Furnished  Swimming pool  Garden  Terrace  \\\n",
       " 758            0.0         2          0              1       0        1   \n",
       " 6053           1.0         3          0              1       0        1   \n",
       " 4699           0.0         2          0              1       0        0   \n",
       " 6547           1.0         5          0              1       0        0   \n",
       " 5391           2.0         2          0              0       0        1   \n",
       " ...            ...       ...        ...            ...     ...      ...   \n",
       " 6405           2.0         2          0              1       0        1   \n",
       " 428            2.0         3          0              0       0        1   \n",
       " 4955           0.0         4          0              1       1        0   \n",
       " 4897           0.0         6          0              1       1        1   \n",
       " 2740           1.0         1          0              1       0        0   \n",
       " \n",
       "       Surface of the plot  Living area  property sub-type_BUNGALOW  \\\n",
       " 758                   0.0         86.0                           0   \n",
       " 6053                  0.0        112.0                           0   \n",
       " 4699                  0.0        134.0                           0   \n",
       " 6547                556.0        280.0                           0   \n",
       " 5391                  0.0        123.0                           0   \n",
       " ...                   ...          ...                         ...   \n",
       " 6405                  0.0        132.0                           0   \n",
       " 428                   0.0        260.0                           0   \n",
       " 4955                150.0        327.0                           0   \n",
       " 4897                480.0        360.0                           0   \n",
       " 2740                  0.0         60.0                           0   \n",
       " \n",
       "       property sub-type_CASTLE  ...  Post code_9550  Post code_9600  \\\n",
       " 758                          0  ...               0               0   \n",
       " 6053                         0  ...               0               0   \n",
       " 4699                         0  ...               0               0   \n",
       " 6547                         0  ...               0               0   \n",
       " 5391                         0  ...               0               0   \n",
       " ...                        ...  ...             ...             ...   \n",
       " 6405                         0  ...               0               0   \n",
       " 428                          0  ...               0               0   \n",
       " 4955                         0  ...               0               0   \n",
       " 4897                         0  ...               0               0   \n",
       " 2740                         0  ...               0               0   \n",
       " \n",
       "       Post code_9620  Post code_9700  Post code_9800  Post code_9820  \\\n",
       " 758                0               0               0               0   \n",
       " 6053               0               0               0               0   \n",
       " 4699               0               0               0               0   \n",
       " 6547               0               1               0               0   \n",
       " 5391               0               0               0               0   \n",
       " ...              ...             ...             ...             ...   \n",
       " 6405               0               0               0               0   \n",
       " 428                0               0               0               0   \n",
       " 4955               0               0               0               0   \n",
       " 4897               0               0               0               0   \n",
       " 2740               0               0               0               0   \n",
       " \n",
       "       Post code_9880  Post code_9900  Post code_9940  Post code_other  \n",
       " 758                0               0               0                1  \n",
       " 6053               0               0               0                0  \n",
       " 4699               0               0               0                0  \n",
       " 6547               0               0               0                0  \n",
       " 5391               0               0               0                1  \n",
       " ...              ...             ...             ...              ...  \n",
       " 6405               0               0               0                0  \n",
       " 428                0               0               0                0  \n",
       " 4955               0               0               0                0  \n",
       " 4897               0               0               0                0  \n",
       " 2740               0               0               0                0  \n",
       " \n",
       " [6113 rows x 194 columns],\n",
       "       Kitchen type  Bedrooms  Furnished  Swimming pool  Garden  Terrace  \\\n",
       " 3977           0.0         4          0              0       0        0   \n",
       " 401            1.0         2          0              1       1        1   \n",
       " 5178           0.0         5          0              0       1        0   \n",
       " 3510           0.0         2          0              1       0        0   \n",
       " 6417           0.0         3          0              1       0        1   \n",
       " ...            ...       ...        ...            ...     ...      ...   \n",
       " 5099           1.0         7          0              0       1        0   \n",
       " 4145           1.0         3          0              1       1        0   \n",
       " 4109           1.0         5          0              1       1        1   \n",
       " 4998           1.0         4          0              1       0        1   \n",
       " 1253           0.0         6          0              1       0        0   \n",
       " \n",
       "       Surface of the plot  Living area  property sub-type_BUNGALOW  \\\n",
       " 3977                780.0        295.0                           0   \n",
       " 401                   0.0        102.0                           0   \n",
       " 5178                175.0        250.0                           0   \n",
       " 3510                  0.0         38.0                           0   \n",
       " 6417                  0.0        138.0                           0   \n",
       " ...                   ...          ...                         ...   \n",
       " 5099                373.0        900.0                           0   \n",
       " 4145                785.0        179.0                           0   \n",
       " 4109                290.0        300.0                           0   \n",
       " 4998                831.0        387.0                           0   \n",
       " 1253                  0.0        300.0                           0   \n",
       " \n",
       "       property sub-type_CASTLE  ...  Post code_9550  Post code_9600  \\\n",
       " 3977                         0  ...               0               0   \n",
       " 401                          0  ...               0               0   \n",
       " 5178                         0  ...               0               0   \n",
       " 3510                         0  ...               0               0   \n",
       " 6417                         0  ...               1               0   \n",
       " ...                        ...  ...             ...             ...   \n",
       " 5099                         0  ...               0               0   \n",
       " 4145                         0  ...               0               0   \n",
       " 4109                         0  ...               0               0   \n",
       " 4998                         0  ...               0               0   \n",
       " 1253                         0  ...               0               0   \n",
       " \n",
       "       Post code_9620  Post code_9700  Post code_9800  Post code_9820  \\\n",
       " 3977               0               0               0               0   \n",
       " 401                0               0               0               0   \n",
       " 5178               0               0               0               0   \n",
       " 3510               0               0               0               0   \n",
       " 6417               0               0               0               0   \n",
       " ...              ...             ...             ...             ...   \n",
       " 5099               0               0               0               0   \n",
       " 4145               0               0               0               0   \n",
       " 4109               0               0               0               0   \n",
       " 4998               0               0               0               0   \n",
       " 1253               0               0               0               0   \n",
       " \n",
       "       Post code_9880  Post code_9900  Post code_9940  Post code_other  \n",
       " 3977               0               0               0                1  \n",
       " 401                0               0               0                0  \n",
       " 5178               0               0               0                0  \n",
       " 3510               0               0               0                0  \n",
       " 6417               0               0               0                0  \n",
       " ...              ...             ...             ...              ...  \n",
       " 5099               0               0               0                0  \n",
       " 4145               0               0               0                1  \n",
       " 4109               0               0               0                0  \n",
       " 4998               0               0               0                0  \n",
       " 1253               0               0               0                0  \n",
       " \n",
       " [1529 rows x 194 columns],\n",
       " 758     12.597591\n",
       " 6053    12.464583\n",
       " 4699    12.429216\n",
       " 6547    13.217674\n",
       " 5391    12.560244\n",
       "           ...    \n",
       " 6405    12.938441\n",
       " 428     13.647092\n",
       " 4955    13.748302\n",
       " 4897    13.214031\n",
       " 2740    12.323856\n",
       " Name: log_price, Length: 6113, dtype: float64,\n",
       " 3977    12.886641\n",
       " 401     12.793859\n",
       " 5178    12.886641\n",
       " 3510    12.807653\n",
       " 6417    12.628067\n",
       "           ...    \n",
       " 5099    14.187074\n",
       " 4145    12.425208\n",
       " 4109    13.304685\n",
       " 4998    13.527828\n",
       " 1253    13.541074\n",
       " Name: log_price, Length: 1529, dtype: float64)"
      ]
     },
     "execution_count": 14,
     "metadata": {},
     "output_type": "execute_result"
    }
   ],
   "source": [
    "regressor"
   ]
  },
  {
   "cell_type": "code",
   "execution_count": 15,
   "metadata": {},
   "outputs": [
    {
     "data": {
      "text/plain": [
       "Kitchen type       0.0\n",
       "Bedrooms           3.0\n",
       "Furnished          1.0\n",
       "Swimming pool      1.0\n",
       "Garden             0.0\n",
       "                  ... \n",
       "Post code_9820     0.0\n",
       "Post code_9880     0.0\n",
       "Post code_9900     0.0\n",
       "Post code_9940     0.0\n",
       "Post code_other    0.0\n",
       "Name: 7641, Length: 195, dtype: float64"
      ]
     },
     "execution_count": 15,
     "metadata": {},
     "output_type": "execute_result"
    }
   ],
   "source": [
    "X"
   ]
  },
  {
   "cell_type": "code",
   "execution_count": 16,
   "metadata": {},
   "outputs": [],
   "source": [
    "y = predict_linear_regression_client(regressor,X)"
   ]
  },
  {
   "cell_type": "code",
   "execution_count": 18,
   "metadata": {},
   "outputs": [
    {
     "data": {
      "text/plain": [
       "13.016190250625167"
      ]
     },
     "execution_count": 18,
     "metadata": {},
     "output_type": "execute_result"
    }
   ],
   "source": [
    "y"
   ]
  },
  {
   "cell_type": "code",
   "execution_count": 19,
   "metadata": {},
   "outputs": [],
   "source": [
    "from jsonschema import validate\n",
    "\n",
    "\n",
    "validate(instance=42, schema={\"type\":\"integer\"})"
   ]
  },
  {
   "cell_type": "code",
   "execution_count": 20,
   "metadata": {},
   "outputs": [
    {
     "ename": "ValidationError",
     "evalue": "'dodo' is not of type 'integer'\n\nFailed validating 'type' in schema:\n    {'type': 'integer'}\n\nOn instance:\n    'dodo'",
     "output_type": "error",
     "traceback": [
      "\u001b[0;31m---------------------------------------------------------------------------\u001b[0m",
      "\u001b[0;31mValidationError\u001b[0m                           Traceback (most recent call last)",
      "\u001b[1;32m/home/becode/Fortune/Projects/API-Immo/test.ipynb Cell 19'\u001b[0m in \u001b[0;36m<cell line: 1>\u001b[0;34m()\u001b[0m\n\u001b[0;32m----> <a href='vscode-notebook-cell:/home/becode/Fortune/Projects/API-Immo/test.ipynb#ch0000066?line=0'>1</a>\u001b[0m validate(instance\u001b[39m=\u001b[39;49m\u001b[39m\"\u001b[39;49m\u001b[39mdodo\u001b[39;49m\u001b[39m\"\u001b[39;49m, schema\u001b[39m=\u001b[39;49m{\u001b[39m\"\u001b[39;49m\u001b[39mtype\u001b[39;49m\u001b[39m\"\u001b[39;49m:\u001b[39m\"\u001b[39;49m\u001b[39minteger\u001b[39;49m\u001b[39m\"\u001b[39;49m})\n",
      "File \u001b[0;32m~/Fortune/Projects/API-Immo/env-API-Immo/lib/python3.8/site-packages/jsonschema/validators.py:1022\u001b[0m, in \u001b[0;36mvalidate\u001b[0;34m(instance, schema, cls, *args, **kwargs)\u001b[0m\n\u001b[1;32m   <a href='file:///home/becode/Fortune/Projects/API-Immo/env-API-Immo/lib/python3.8/site-packages/jsonschema/validators.py?line=1019'>1020</a>\u001b[0m error \u001b[39m=\u001b[39m exceptions\u001b[39m.\u001b[39mbest_match(validator\u001b[39m.\u001b[39miter_errors(instance))\n\u001b[1;32m   <a href='file:///home/becode/Fortune/Projects/API-Immo/env-API-Immo/lib/python3.8/site-packages/jsonschema/validators.py?line=1020'>1021</a>\u001b[0m \u001b[39mif\u001b[39;00m error \u001b[39mis\u001b[39;00m \u001b[39mnot\u001b[39;00m \u001b[39mNone\u001b[39;00m:\n\u001b[0;32m-> <a href='file:///home/becode/Fortune/Projects/API-Immo/env-API-Immo/lib/python3.8/site-packages/jsonschema/validators.py?line=1021'>1022</a>\u001b[0m     \u001b[39mraise\u001b[39;00m error\n",
      "\u001b[0;31mValidationError\u001b[0m: 'dodo' is not of type 'integer'\n\nFailed validating 'type' in schema:\n    {'type': 'integer'}\n\nOn instance:\n    'dodo'"
     ]
    }
   ],
   "source": [
    "validate(instance=\"dodo\", schema={\"type\":\"integer\"})"
   ]
  },
  {
   "cell_type": "code",
   "execution_count": null,
   "metadata": {},
   "outputs": [],
   "source": []
  }
 ],
 "metadata": {
  "interpreter": {
   "hash": "008746b9fc8a8dd7587d70678da85d2496e66d310b4ab7cd61a0f00142adab8c"
  },
  "kernelspec": {
   "display_name": "Python 3.8.10 ('env-API-Immo': venv)",
   "language": "python",
   "name": "python3"
  },
  "language_info": {
   "codemirror_mode": {
    "name": "ipython",
    "version": 3
   },
   "file_extension": ".py",
   "mimetype": "text/x-python",
   "name": "python",
   "nbconvert_exporter": "python",
   "pygments_lexer": "ipython3",
   "version": "3.8.10"
  },
  "orig_nbformat": 4
 },
 "nbformat": 4,
 "nbformat_minor": 2
}
