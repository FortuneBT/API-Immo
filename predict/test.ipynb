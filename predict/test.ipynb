{
 "cells": [
  {
   "cell_type": "code",
   "execution_count": 8,
   "metadata": {},
   "outputs": [
    {
     "ename": "ModuleNotFoundError",
     "evalue": "No module named 'model'",
     "output_type": "error",
     "traceback": [
      "\u001b[0;31m---------------------------------------------------------------------------\u001b[0m",
      "\u001b[0;31mModuleNotFoundError\u001b[0m                       Traceback (most recent call last)",
      "\u001b[1;32m/home/becode/Fortune/Projects/API-Immo/predict/test.ipynb Cell 1'\u001b[0m in \u001b[0;36m<cell line: 3>\u001b[0;34m()\u001b[0m\n\u001b[1;32m      <a href='vscode-notebook-cell:/home/becode/Fortune/Projects/API-Immo/predict/test.ipynb#ch0000000?line=0'>1</a>\u001b[0m \u001b[39mfrom\u001b[39;00m \u001b[39mtyping\u001b[39;00m \u001b[39mimport\u001b[39;00m Optional,List,Dict\n\u001b[1;32m      <a href='vscode-notebook-cell:/home/becode/Fortune/Projects/API-Immo/predict/test.ipynb#ch0000000?line=1'>2</a>\u001b[0m \u001b[39mimport\u001b[39;00m \u001b[39mnumpy\u001b[39;00m \u001b[39mas\u001b[39;00m \u001b[39mnp\u001b[39;00m\n\u001b[0;32m----> <a href='vscode-notebook-cell:/home/becode/Fortune/Projects/API-Immo/predict/test.ipynb#ch0000000?line=2'>3</a>\u001b[0m \u001b[39mimport\u001b[39;00m \u001b[39mmodel\u001b[39;00m\u001b[39m.\u001b[39;00m\u001b[39mmymodel\u001b[39;00m \u001b[39mas\u001b[39;00m \u001b[39mmd\u001b[39;00m\n\u001b[1;32m      <a href='vscode-notebook-cell:/home/becode/Fortune/Projects/API-Immo/predict/test.ipynb#ch0000000?line=3'>4</a>\u001b[0m \u001b[39mimport\u001b[39;00m \u001b[39mpredict\u001b[39;00m\u001b[39m.\u001b[39;00m\u001b[39mprediction\u001b[39;00m \u001b[39mas\u001b[39;00m \u001b[39mpr\u001b[39;00m\n\u001b[1;32m      <a href='vscode-notebook-cell:/home/becode/Fortune/Projects/API-Immo/predict/test.ipynb#ch0000000?line=4'>5</a>\u001b[0m \u001b[39mimport\u001b[39;00m \u001b[39mpreprocessing\u001b[39;00m\u001b[39m.\u001b[39;00m\u001b[39mcleaning_data\u001b[39;00m \u001b[39mas\u001b[39;00m \u001b[39mcd\u001b[39;00m\n",
      "\u001b[0;31mModuleNotFoundError\u001b[0m: No module named 'model'"
     ]
    }
   ],
   "source": [
    "from typing import Optional,List,Dict\n",
    "import numpy as np\n",
    "import model.mymodel as md\n",
    "import predict.prediction as pr\n",
    "import preprocessing.cleaning_data as cd\n",
    "\n"
   ]
  },
  {
   "cell_type": "code",
   "execution_count": null,
   "metadata": {},
   "outputs": [],
   "source": [
    "cd.raw_data"
   ]
  },
  {
   "cell_type": "code",
   "execution_count": null,
   "metadata": {},
   "outputs": [],
   "source": [
    "cd.raw_data.columns"
   ]
  },
  {
   "cell_type": "code",
   "execution_count": null,
   "metadata": {},
   "outputs": [],
   "source": [
    "df_reg = cd.start_dataframe()"
   ]
  },
  {
   "cell_type": "code",
   "execution_count": null,
   "metadata": {},
   "outputs": [],
   "source": [
    "regressor = md.linear_regression_model(df_reg)"
   ]
  },
  {
   "cell_type": "code",
   "execution_count": null,
   "metadata": {},
   "outputs": [],
   "source": [
    "pr.predict_linear_regression(regressor,df_reg)[1]"
   ]
  },
  {
   "cell_type": "code",
   "execution_count": null,
   "metadata": {},
   "outputs": [],
   "source": [
    "data = {\n",
    "  \"data\": {\n",
    "    \"area\": int,\n",
    "    \"property-type\": str,\n",
    "    \"rooms-number\": int,\n",
    "    \"zip-code\": int,\n",
    "    \"land-area\": Optional[int],\n",
    "    \"garden\": Optional[bool],\n",
    "    \"garden-area\": Optional[int],\n",
    "    \"equipped-kitchen\": Optional[bool],\n",
    "    \"full-address\": Optional[str],\n",
    "    \"swimming-pool\": Optional[bool],\n",
    "    \"furnished\": Optional[bool],\n",
    "    \"open-fire\": Optional[bool],\n",
    "    \"terrace\": Optional[bool],\n",
    "    \"terrace-area\": Optional[int],\n",
    "    \"facades-number\": Optional[int],\n",
    "    \"building-state\": Optional[str]\n",
    "  }\n",
    "}"
   ]
  },
  {
   "cell_type": "code",
   "execution_count": null,
   "metadata": {},
   "outputs": [],
   "source": [
    "data2 = {\n",
    "  \"data\": {\n",
    "    \"area\": int,\n",
    "    \"rooms-number\": int,\n",
    "    \"zip-code\": int,\n",
    "    \"land-area\": Optional[int],\n",
    "    \"garden\": Optional[bool],\n",
    "    \"garden-area\": Optional[int],\n",
    "    \"equipped-kitchen\": Optional[bool],\n",
    "    \"full-address\": Optional[str],\n",
    "    \"swimming-pool\": Optional[bool],\n",
    "    \"furnished\": Optional[bool],\n",
    "    \"open-fire\": Optional[bool],\n",
    "    \"terrace\": Optional[bool],\n",
    "    \"terrace-area\": Optional[int],\n",
    "    \"facades-number\": Optional[int],\n",
    "    \"building-state\": Optional[str]\n",
    "  }\n",
    "}"
   ]
  },
  {
   "cell_type": "code",
   "execution_count": null,
   "metadata": {},
   "outputs": [],
   "source": [
    "living_area:str = \"Living area\" # \"area\":int\n",
    "property_type:str = \"Property type\" #\"property-type\": str\n",
    "bedrooms:int = \"Bedrooms\" #\"rooms-number\": int\n",
    "post_code:int = \"Post code\" #\"zip-code\": int"
   ]
  },
  {
   "cell_type": "code",
   "execution_count": null,
   "metadata": {},
   "outputs": [],
   "source": [
    "data3 = {\n",
    "  \"data\": {\n",
    "    \"area\": 230,\n",
    "    \"property-type\":\"APARTMENT\",\n",
    "    \"rooms-number\":3,\n",
    "    \"zip-code\": 1083,\n",
    "  }\n",
    "}"
   ]
  },
  {
   "cell_type": "code",
   "execution_count": null,
   "metadata": {},
   "outputs": [],
   "source": [
    "data_encoded = {\n",
    "    \"data\":{\n",
    "        living_area:data3[\"data\"][\"area\"],\n",
    "        property_type:data3[\"data\"][\"property-type\"],\n",
    "        bedrooms:data3[\"data\"][\"rooms-number\"],\n",
    "        post_code:data3[\"data\"][\"zip-code\"]\n",
    "    }\n",
    "}"
   ]
  },
  {
   "cell_type": "code",
   "execution_count": null,
   "metadata": {},
   "outputs": [],
   "source": [
    "columns = cd.raw_data.columns"
   ]
  },
  {
   "cell_type": "code",
   "execution_count": null,
   "metadata": {},
   "outputs": [],
   "source": [
    "for elem in columns:\n",
    "    print(elem)\n",
    "    for label in data3[\"data\"].keys():\n",
    "        if label == elem:\n",
    "            print(\"trouvé!\")\n",
    "            "
   ]
  },
  {
   "cell_type": "code",
   "execution_count": null,
   "metadata": {},
   "outputs": [],
   "source": []
  }
 ],
 "metadata": {
  "interpreter": {
   "hash": "008746b9fc8a8dd7587d70678da85d2496e66d310b4ab7cd61a0f00142adab8c"
  },
  "kernelspec": {
   "display_name": "Python 3.8.10 ('env-API-Immo': venv)",
   "language": "python",
   "name": "python3"
  },
  "language_info": {
   "codemirror_mode": {
    "name": "ipython",
    "version": 3
   },
   "file_extension": ".py",
   "mimetype": "text/x-python",
   "name": "python",
   "nbconvert_exporter": "python",
   "pygments_lexer": "ipython3",
   "version": "3.8.10"
  },
  "orig_nbformat": 4
 },
 "nbformat": 4,
 "nbformat_minor": 2
}
